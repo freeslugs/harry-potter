{
 "cells": [
  {
   "cell_type": "code",
   "execution_count": 2,
   "metadata": {
    "collapsed": true
   },
   "outputs": [],
   "source": [
    "# Packages we used\n",
    "\n",
    "import pandas as pd\n",
    "import numpy as np\n",
    "import matplotlib.pyplot as plt\n",
    "from tqdm import tnrange, tqdm_notebook\n",
    "# tqdm.pandas(desc=\"my bar!\")"
   ]
  },
  {
   "cell_type": "code",
   "execution_count": null,
   "metadata": {
    "collapsed": true
   },
   "outputs": [],
   "source": [
    "# Enron Data Files & Parsing Packages we used\n",
    "\n",
    "modified_emails = 'modified_enron_emails.csv' # CSV of data we used initially.\n",
    "df = pd.read_csv(modified_emails) # Set that CSV to the value 'df'\n",
    "\n",
    "from email.mime.text import MIMEText\n",
    "from email.parser import Parser"
   ]
  },
  {
   "cell_type": "code",
   "execution_count": null,
   "metadata": {
    "collapsed": true
   },
   "outputs": [],
   "source": [
    "# Function to retrieve every email's contents for easy reading.\n",
    "\n",
    "def get_email_data(email_content):\n",
    "    headers = Parser().parsestr(email_content)\n",
    "\n",
    "    email_id = headers[\"Message-ID\"]\n",
    "    email_date = headers[\"date\"]\n",
    "    email_from = headers[\"from\"]\n",
    "    email_to = headers[\"to\"]\n",
    "    email_subject = headers[\"subject\"]\n",
    "    email_mime = headers[\"Mime-Version\"]\n",
    "    email_content_type = headers[\"Content-Type\"]\n",
    "    email_encoding = headers[\"Content-Transfer-Encoding\"]\n",
    "    email_x_from = headers[\"X-From\"]\n",
    "    email_x_to = headers[\"X-To\"]\n",
    "    email_x_cc = headers[\"X-cc\"]\n",
    "    email_x_bcc = headers[\"X-bcc\"]\n",
    "    email_x_origin = headers[\"X-Origin\"]\n",
    "    email_file_name = headers[\"X-FileName\"]\n",
    "    email_body = headers.get_payload()\n",
    "    \n",
    "    return {\n",
    "        \"email_id\": email_id,\n",
    "        \"email_date\": email_date,\n",
    "        \"email_from\": email_from,\n",
    "        \"email_to\": email_to,\n",
    "        \"email_subject\": email_subject,\n",
    "        \"email_mime\": email_mime,\n",
    "        \"email_content_type\": email_content_type,\n",
    "        \"email_encoding\": email_encoding,\n",
    "        \"email_x_from\": email_x_from,\n",
    "        \"email_x_to\": email_x_to,\n",
    "        \"email_x_cc\": email_x_cc,\n",
    "        \"email_x_bcc\": email_x_bcc,\n",
    "        \"email_x_origin\": email_x_origin,\n",
    "        \"email_file_name\": email_file_name,\n",
    "        \"email_body\": email_body\n",
    "    }"
   ]
  },
  {
   "cell_type": "code",
   "execution_count": null,
   "metadata": {
    "collapsed": true
   },
   "outputs": [],
   "source": [
    "#Email's columns for coders' reference\n",
    "\n",
    "email_cols = [\"email_id\", \"email_date\", \"email_from\", \"email_to\", \n",
    "              \"email_subject\", \"email_mime\", \"email_content_type\", \n",
    "              \"email_encoding\", \"email_x_from\", \"email_x_to\", \n",
    "              \"email_x_cc\", \"email_x_bcc\", \"email_x_origin\", \n",
    "              \"email_file_name\", \"email_body\"]\n",
    "\n",
    "# Functions to retrieve data from all the email column's names mentioned above.\n",
    "\n",
    "def get_email_col_email_id(value):\n",
    "    return get_email_data(value)[\"email_id\"]\n",
    "\n",
    "def get_email_col_email_date(value):\n",
    "    return get_email_data(value)[\"email_date\"]\n",
    "\n",
    "def get_email_col_email_from(value):\n",
    "    return get_email_data(value)[\"email_from\"]\n",
    "\n",
    "def get_email_col_email_to(value):\n",
    "    return get_email_data(value)[\"email_to\"]\n",
    "\n",
    "def get_email_col_email_subject(value):\n",
    "    return get_email_data(value)[\"email_subject\"]\n",
    "\n",
    "def get_email_col_email_mime(value):\n",
    "    return get_email_data(value)[\"email_mime\"]\n",
    "\n",
    "def get_email_col_email_content_type(value):\n",
    "    return get_email_data(value)[\"email_content_type\"]\n",
    "\n",
    "def get_email_col_email_encoding(value):\n",
    "    return get_email_data(value)[\"email_encoding\"]\n",
    "\n",
    "def get_email_col_email_x_from(value):\n",
    "    return get_email_data(value)[\"email_x_from\"]\n",
    "\n",
    "def get_email_col_email_x_to(value):\n",
    "    return get_email_data(value)[\"email_x_to\"]\n",
    "\n",
    "def get_email_col_email_x_cc(value):\n",
    "    return get_email_data(value)[\"email_x_cc\"]\n",
    "\n",
    "def get_email_col_email_x_bcc(value):\n",
    "    return get_email_data(value)[\"email_x_bcc\"]\n",
    "\n",
    "def get_email_col_email_x_origin(value):\n",
    "    return get_email_data(value)[\"email_x_origin\"]\n",
    "\n",
    "def get_email_col_email_file_name(value):\n",
    "    return get_email_data(value)[\"email_file_name\"]\n",
    "\n",
    "def get_email_col_email_body(value):\n",
    "    return get_email_data(value)[\"email_body\"]"
   ]
  },
  {
   "cell_type": "code",
   "execution_count": null,
   "metadata": {
    "collapsed": true
   },
   "outputs": [],
   "source": [
    "# Set data with respect to message of the emails.\n",
    "\n",
    "df['email_id'] = df['message'].apply(get_email_col_email_id)\n",
    "\n",
    "df['email_date'] = df['message'].apply(get_email_col_email_date)\n",
    "\n",
    "df['email_from'] = df['message'].apply(get_email_col_email_from)\n",
    "\n",
    "df['email_to'] = df['message'].apply(get_email_col_email_to)\n",
    "\n",
    "df['email_subject'] = df['message'].apply(get_email_col_email_subject)\n",
    "\n",
    "df['email_mime'] = df['message'].apply(get_email_col_email_mime)\n",
    "\n",
    "df['email_content_type'] = df['message'].apply(get_email_col_email_content_type)\n",
    "\n",
    "df['email_encoding'] = df['message'].apply(get_email_col_email_encoding)\n",
    "\n",
    "df['email_x_from'] = df['message'].apply(get_email_col_email_x_from)\n",
    "\n",
    "df['email_x_to'] = df['message'].apply(get_email_col_email_x_to)\n",
    "\n",
    "df['email_x_cc'] = df['message'].apply(get_email_col_email_x_cc)\n",
    "\n",
    "df['email_x_bcc'] = df['message'].apply(get_email_col_email_x_bcc)\n",
    "\n",
    "df['email_x_origin'] = df['message'].apply(get_email_col_email_x_origin)\n",
    "\n",
    "df['email_file_name'] = df['message'].apply(get_email_col_email_file_name)\n",
    "\n",
    "df['email_body'] = df['message'].apply(get_email_col_email_body)\n",
    "\n",
    "df.to_csv('modified_enron_emails2.csv')"
   ]
  },
  {
   "cell_type": "code",
   "execution_count": 25,
   "metadata": {
    "collapsed": true
   },
   "outputs": [],
   "source": [
    "tqdm.pandas(desc=\"my bar!\")\n",
    "df.to_csv('modified_enron_emails.csv')"
   ]
  },
  {
   "cell_type": "code",
   "execution_count": 3,
   "metadata": {
    "collapsed": true
   },
   "outputs": [],
   "source": [
    "# More Enron data files to consider\n",
    "\n",
    "emails = \"CDSS/enron_emails.csv\"\n",
    "modified_emails = 'modified_enron_emails.csv'\n",
    "full_data = 'full_data_enron_emails.csv'# All contents of Enron employee's emails are located here. We use this.\n",
    "sentences = \"CDSS/enron-sentences.json\"\n",
    "employee_list =\"CDSS/enron_employee_list_partial.csv\"\n",
    "\n",
    "df = pd.read_csv(full_data) # Set to the value 'df' for ease of use.\n",
    "# df = pd.read_json(sentences)"
   ]
  },
  {
   "cell_type": "code",
   "execution_count": 222,
   "metadata": {
    "collapsed": true
   },
   "outputs": [],
   "source": [
    "# df[\"message\"]\n",
    "\n",
    "def get_email_col(value):\n",
    "    return get_email_data(value)[\"email_date\"] # Get 'email date' info"
   ]
  },
  {
   "cell_type": "code",
   "execution_count": 223,
   "metadata": {
    "collapsed": true
   },
   "outputs": [],
   "source": [
    "# for col in email_cols: \n",
    "#     print (col)\n",
    "# df[col] = df.apply(getnewcol)\n",
    "\n",
    "df['email_date'] = df['message'].apply(get_email_col) # Get 'email message' info"
   ]
  },
  {
   "cell_type": "code",
   "execution_count": 24,
   "metadata": {
    "collapsed": true
   },
   "outputs": [
    {
     "data": {
      "text/html": [
       "<div>\n",
       "<style>\n",
       "    .dataframe thead tr:only-child th {\n",
       "        text-align: right;\n",
       "    }\n",
       "\n",
       "    .dataframe thead th {\n",
       "        text-align: left;\n",
       "    }\n",
       "\n",
       "    .dataframe tbody tr th {\n",
       "        vertical-align: top;\n",
       "    }\n",
       "</style>\n",
       "<table border=\"1\" class=\"dataframe\">\n",
       "  <thead>\n",
       "    <tr style=\"text-align: right;\">\n",
       "      <th></th>\n",
       "      <th>file</th>\n",
       "      <th>message</th>\n",
       "      <th>email_id</th>\n",
       "      <th>email_date</th>\n",
       "    </tr>\n",
       "  </thead>\n",
       "  <tbody>\n",
       "    <tr>\n",
       "      <th>0</th>\n",
       "      <td>allen-p/_sent_mail/1.</td>\n",
       "      <td>Message-ID: &lt;18782981.1075855378110.JavaMail.e...</td>\n",
       "      <td>&lt;18782981.1075855378110.JavaMail.evans@thyme&gt;</td>\n",
       "      <td>Mon, 14 May 2001 16:39:00 -0700 (PDT)</td>\n",
       "    </tr>\n",
       "    <tr>\n",
       "      <th>1</th>\n",
       "      <td>allen-p/_sent_mail/10.</td>\n",
       "      <td>Message-ID: &lt;15464986.1075855378456.JavaMail.e...</td>\n",
       "      <td>&lt;15464986.1075855378456.JavaMail.evans@thyme&gt;</td>\n",
       "      <td>Fri, 4 May 2001 13:51:00 -0700 (PDT)</td>\n",
       "    </tr>\n",
       "    <tr>\n",
       "      <th>2</th>\n",
       "      <td>allen-p/_sent_mail/100.</td>\n",
       "      <td>Message-ID: &lt;24216240.1075855687451.JavaMail.e...</td>\n",
       "      <td>&lt;24216240.1075855687451.JavaMail.evans@thyme&gt;</td>\n",
       "      <td>Wed, 18 Oct 2000 03:00:00 -0700 (PDT)</td>\n",
       "    </tr>\n",
       "    <tr>\n",
       "      <th>3</th>\n",
       "      <td>allen-p/_sent_mail/1000.</td>\n",
       "      <td>Message-ID: &lt;13505866.1075863688222.JavaMail.e...</td>\n",
       "      <td>&lt;13505866.1075863688222.JavaMail.evans@thyme&gt;</td>\n",
       "      <td>Mon, 23 Oct 2000 06:13:00 -0700 (PDT)</td>\n",
       "    </tr>\n",
       "    <tr>\n",
       "      <th>4</th>\n",
       "      <td>allen-p/_sent_mail/1001.</td>\n",
       "      <td>Message-ID: &lt;30922949.1075863688243.JavaMail.e...</td>\n",
       "      <td>&lt;30922949.1075863688243.JavaMail.evans@thyme&gt;</td>\n",
       "      <td>Thu, 31 Aug 2000 05:07:00 -0700 (PDT)</td>\n",
       "    </tr>\n",
       "  </tbody>\n",
       "</table>\n",
       "</div>"
      ],
      "text/plain": [
       "                       file  \\\n",
       "0     allen-p/_sent_mail/1.   \n",
       "1    allen-p/_sent_mail/10.   \n",
       "2   allen-p/_sent_mail/100.   \n",
       "3  allen-p/_sent_mail/1000.   \n",
       "4  allen-p/_sent_mail/1001.   \n",
       "\n",
       "                                             message  \\\n",
       "0  Message-ID: <18782981.1075855378110.JavaMail.e...   \n",
       "1  Message-ID: <15464986.1075855378456.JavaMail.e...   \n",
       "2  Message-ID: <24216240.1075855687451.JavaMail.e...   \n",
       "3  Message-ID: <13505866.1075863688222.JavaMail.e...   \n",
       "4  Message-ID: <30922949.1075863688243.JavaMail.e...   \n",
       "\n",
       "                                        email_id  \\\n",
       "0  <18782981.1075855378110.JavaMail.evans@thyme>   \n",
       "1  <15464986.1075855378456.JavaMail.evans@thyme>   \n",
       "2  <24216240.1075855687451.JavaMail.evans@thyme>   \n",
       "3  <13505866.1075863688222.JavaMail.evans@thyme>   \n",
       "4  <30922949.1075863688243.JavaMail.evans@thyme>   \n",
       "\n",
       "                              email_date  \n",
       "0  Mon, 14 May 2001 16:39:00 -0700 (PDT)  \n",
       "1   Fri, 4 May 2001 13:51:00 -0700 (PDT)  \n",
       "2  Wed, 18 Oct 2000 03:00:00 -0700 (PDT)  \n",
       "3  Mon, 23 Oct 2000 06:13:00 -0700 (PDT)  \n",
       "4  Thu, 31 Aug 2000 05:07:00 -0700 (PDT)  "
      ]
     },
     "execution_count": 24,
     "metadata": {},
     "output_type": "execute_result"
    }
   ],
   "source": [
    "# df = df.drop('Unnamed: 0', axis=1)\n",
    "\n",
    "df.head() # Read all columns in our value."
   ]
  },
  {
   "cell_type": "code",
   "execution_count": 39,
   "metadata": {
    "collapsed": true
   },
   "outputs": [
    {
     "data": {
      "text/plain": [
       "email_date\n",
       "1979-12      74\n",
       "1998-10       6\n",
       "1998-11       6\n",
       "1998-12      18\n",
       "1999-1       24\n",
       "1999-10     137\n",
       "1999-11     134\n",
       "1999-12     493\n",
       "1999-2       16\n",
       "1999-3       20\n",
       "1999-4        8\n",
       "1999-5       73\n",
       "1999-6       88\n",
       "1999-7      113\n",
       "1999-8      118\n",
       "1999-9      122\n",
       "2000-1      724\n",
       "2000-10    3867\n",
       "2000-11    4271\n",
       "2000-12    3755\n",
       "2000-2      976\n",
       "2000-3     1182\n",
       "2000-4     1350\n",
       "2000-5     1580\n",
       "2000-6     2007\n",
       "2000-7     2023\n",
       "2000-8     2864\n",
       "2000-9     3571\n",
       "2001-1     3722\n",
       "2001-10    2240\n",
       "2001-11    2052\n",
       "2001-12     952\n",
       "2001-2     3556\n",
       "2001-3     4042\n",
       "2001-4     4892\n",
       "2001-5     3674\n",
       "2001-6     1276\n",
       "2001-7      854\n",
       "2001-8      796\n",
       "2001-9      890\n",
       "2002-1     1215\n",
       "2002-2      454\n",
       "2002-3      289\n",
       "2002-4      117\n",
       "2002-5       83\n",
       "2002-6       72\n",
       "2002-7       10\n",
       "Name: message, dtype: int64"
      ]
     },
     "execution_count": 39,
     "metadata": {},
     "output_type": "execute_result"
    }
   ],
   "source": [
    "# emails_to_world_over_time = emails_from_enron_df[df['email_to'].str.contains(\"@enron\")==False]\n",
    "\n",
    "# from dateutil import parser\n",
    "\n",
    "# def format_date(x):\n",
    "#     date = parser.parse(x)\n",
    "#     return str(date.year) + \"-\" + str(date.month)\n",
    "\n",
    "# grouped_df = emails_to_world_over_time.groupby(df['email_date'].map(lambda x: format_date(x)))\n",
    "# grouped_df.count()\n",
    "\n",
    "# Group all the messages from 'df' together for future plotting purposes.\n",
    "\n",
    "grouped_df_count = grouped_df.message.count()\n",
    "grouped_df_count"
   ]
  },
  {
   "cell_type": "code",
   "execution_count": null,
   "metadata": {
    "collapsed": true
   },
   "outputs": [],
   "source": [
    "# Plot Number of Emails Over Years according to logarithm on y axis\n",
    "\n",
    "%matplotlib inline\n",
    "\n",
    "grouped_df.count().plot.bar(\n",
    "    align='center', label=\"Emails\", color=\"blue\")\n",
    "\n",
    "# plt.xlim(xmin=1.5, xmax=9.5) #1997 to 2005\n",
    "plt.xlabel(\"Year\")\n",
    "plt.ylabel(\"Number of Emails\")\n",
    "plt.yscale('log')\n",
    "plt.title(\"Emails from Enron Corporation from 1987 to 2007\")\n",
    "plt.legend()\n",
    "\n",
    "plt.tight_layout()\n",
    "plt.show()"
   ]
  },
  {
   "cell_type": "code",
   "execution_count": null,
   "metadata": {
    "collapsed": true
   },
   "outputs": [],
   "source": [
    "# Plot Number of Emails Over Years\n",
    "\n",
    "%matplotlib inline\n",
    "\n",
    "grouped_df.count().plot.bar(\n",
    "    align='center', label=\"Emails\", color=\"blue\")\n",
    "\n",
    "# plt.xlim(xmin=1.5, xmax=9.5) #1997 to 2005\n",
    "plt.xlabel(\"Year\")\n",
    "plt.ylabel(\"Number of Emails\")\n",
    "plt.title(\"Emails from Enron Corporation from 1987 to 2007\")\n",
    "plt.legend()\n",
    "\n",
    "plt.tight_layout()\n",
    "plt.show()"
   ]
  },
  {
   "cell_type": "code",
   "execution_count": 5,
   "metadata": {},
   "outputs": [
    {
     "data": {
      "text/plain": [
       "517401"
      ]
     },
     "execution_count": 5,
     "metadata": {},
     "output_type": "execute_result"
    }
   ],
   "source": [
    "# Sanity check to confirm that total number of Enron emails is around 510,000\n",
    "\n",
    "len(df)"
   ]
  },
  {
   "cell_type": "code",
   "execution_count": 27,
   "metadata": {
    "collapsed": true
   },
   "outputs": [
    {
     "name": "stderr",
     "output_type": "stream",
     "text": [
      "/home/rhn2105/exit/lib/python3.6/site-packages/ipykernel_launcher.py:1: UserWarning: Boolean Series key will be reindexed to match DataFrame index.\n",
      "  \"\"\"Entry point for launching an IPython kernel.\n",
      "/home/rhn2105/exit/lib/python3.6/site-packages/ipykernel_launcher.py:2: UserWarning: Boolean Series key will be reindexed to match DataFrame index.\n",
      "  \n",
      "/home/rhn2105/exit/lib/python3.6/site-packages/ipykernel_launcher.py:3: UserWarning: Boolean Series key will be reindexed to match DataFrame index.\n",
      "  This is separate from the ipykernel package so we can avoid doing imports until\n",
      "/home/rhn2105/exit/lib/python3.6/site-packages/ipykernel_launcher.py:4: UserWarning: Boolean Series key will be reindexed to match DataFrame index.\n",
      "  after removing the cwd from sys.path.\n",
      "/home/rhn2105/exit/lib/python3.6/site-packages/ipykernel_launcher.py:5: UserWarning: Boolean Series key will be reindexed to match DataFrame index.\n",
      "  \"\"\"\n",
      "/home/rhn2105/exit/lib/python3.6/site-packages/ipykernel_launcher.py:6: UserWarning: Boolean Series key will be reindexed to match DataFrame index.\n",
      "  \n",
      "/home/rhn2105/exit/lib/python3.6/site-packages/ipykernel_launcher.py:7: UserWarning: Boolean Series key will be reindexed to match DataFrame index.\n",
      "  import sys\n",
      "/home/rhn2105/exit/lib/python3.6/site-packages/ipykernel_launcher.py:8: UserWarning: Boolean Series key will be reindexed to match DataFrame index.\n",
      "  \n",
      "/home/rhn2105/exit/lib/python3.6/site-packages/ipykernel_launcher.py:9: UserWarning: Boolean Series key will be reindexed to match DataFrame index.\n",
      "  if __name__ == '__main__':\n",
      "/home/rhn2105/exit/lib/python3.6/site-packages/ipykernel_launcher.py:10: UserWarning: Boolean Series key will be reindexed to match DataFrame index.\n",
      "  # Remove the CWD from sys.path while we load stuff.\n",
      "/home/rhn2105/exit/lib/python3.6/site-packages/ipykernel_launcher.py:11: UserWarning: Boolean Series key will be reindexed to match DataFrame index.\n",
      "  # This is added back by InteractiveShellApp.init_path()\n"
     ]
    }
   ],
   "source": [
    "# See Enron employee's usage of non-enron email addresses for business\n",
    "\n",
    "hotmail_df= emails_from_enron_df[df['email_to'].str.contains(\"@hotmail\")==True].email_to.count()\n",
    "aol_df= emails_from_enron_df[df['email_to'].str.contains(\"@aol\")==True].email_to.count()\n",
    "yahoo_df= emails_from_enron_df[df['email_to'].str.contains(\"@yahoo\")==True].email_to.count()\n",
    "excite_df= emails_from_enron_df[df['email_to'].str.contains(\"@excite\")==True].email_to.count()\n",
    "lycos_df= emails_from_enron_df[df['email_to'].str.contains(\"@lycos\")==True].email_to.count()\n",
    "netscape_df= emails_from_enron_df[df['email_to'].str.contains(\"@netscape\")==True].email_to.count()\n",
    "gmx_df= emails_from_enron_df[df['email_to'].str.contains(\"@gmx\")==True].email_to.count()\n",
    "outlook_df= emails_from_enron_df[df['email_to'].str.contains(\"@outlook\")==True].email_to.count()\n",
    "msn_df= emails_from_enron_df[df['email_to'].str.contains(\"@msn\")==True].email_to.count()\n",
    "fast_df= emails_from_enron_df[df['email_to'].str.contains(\"@fast\")==True].email_to.count()\n",
    "apple_df= emails_from_enron_df[df['email_to'].str.contains(\"@apple\")==True].email_to.count()\n",
    "other_emails = {\n",
    "    \"hotmail\": hotmail_df,\n",
    "    \"aol\": aol_df,\n",
    "    \"yahoo\": yahoo_df,\n",
    "    \"excite\": excite_df,\n",
    "    \"lycos\": lycos_df,\n",
    "    \"netscape\": netscape_df,\n",
    "    \"gmx\": gmx_df,\n",
    "    \"outlook\": outlook_df,\n",
    "    \"msn\": msn_df,\n",
    "    \"fast\": fast_df,\n",
    "    \"apple\": apple_df\n",
    "}\n",
    "    \n",
    "other_emails_df = pd.Series(other_emails)"
   ]
  },
  {
   "cell_type": "code",
   "execution_count": 28,
   "metadata": {},
   "outputs": [
    {
     "data": {
      "text/plain": [
       "aol         9955\n",
       "apple          2\n",
       "excite        40\n",
       "fast           3\n",
       "gmx            0\n",
       "hotmail     3207\n",
       "lycos         20\n",
       "msn          515\n",
       "netscape      21\n",
       "outlook        0\n",
       "yahoo       1532\n",
       "dtype: int64"
      ]
     },
     "execution_count": 28,
     "metadata": {},
     "output_type": "execute_result"
    }
   ],
   "source": [
    "# Print how many of the non-Enron email addresses are used\n",
    "\n",
    "other_emails_df\n",
    "\n",
    "# emails_from_enron_df = df[df['email_from'].str.contains(\"@enron\")==True]\n",
    "# emails_from_enron_df"
   ]
  },
  {
   "cell_type": "code",
   "execution_count": 49,
   "metadata": {
    "collapsed": true
   },
   "outputs": [
    {
     "data": {
      "image/png": "[encoded data removed]",
      "text/plain": [
       "<matplotlib.figure.Figure at 0x7f7a1fd5f048>"
      ]
     },
     "metadata": {},
     "output_type": "display_data"
    }
   ],
   "source": [
    "# grouped_df = other_emails_df.sort_values(ascending=False)\n",
    "# grouped_df\n",
    "\n",
    "# harry = emails_from_enron_df[df['email_body'].str.contains(\"Harry Potter|harry potter\")==True]\n",
    "# match = df[df['email_body'].str.contains(\"match.com\")==True]\n",
    "# match.count()\n",
    "#  harry.group_by()\n",
    "\n",
    "# from dateutil import parser\n",
    "\n",
    "# def format_date(x):\n",
    "#     date = parser.parse(x)\n",
    "#     return str(date.year) + \"-\" + str(date.month)\n",
    "\n",
    "# grouped_df = confidential.groupby(df['email_date'].map(lambda x: format_date(x)))\n",
    "# grouped_df.count()\n",
    "# grouped_df_count = grouped_df.message.count()\n",
    "# grouped_df_count\n",
    "\n",
    "# %matplotlib inline\n",
    "\n",
    "# Plot emails from Enron to non-Enron email addresses over years.\n",
    "grouped_df_count[1:].plot.bar(\n",
    "    figsize=(14,7),\n",
    "    align='center', label=\"Emails\", color=\"blue\")\n",
    "\n",
    "# plt.xlim(xmin=1.5, xmax=9.5) #1997 to 2005\n",
    "plt.xlabel(\"Year\")\n",
    "plt.ylabel(\"Number of Emails\")\n",
    "plt.title(\"Emails from Enron to non-Enron emails addresses \")\n",
    "plt.legend()\n",
    "# plt.yscale('log')\n",
    "\n",
    "plt.tight_layout()\n",
    "plt.show()\n",
    "\n",
    "# confidential = emails_from_enron_df[df['email_subject'].str.contains(\"confidential|Confidential\")==True]\n",
    "# confidential.count()"
   ]
  },
  {
   "cell_type": "code",
   "execution_count": 39,
   "metadata": {
    "collapsed": true
   },
   "outputs": [],
   "source": [
    "# grouped_df = df.groupby(df['email_from'])\n",
    "# grouped_df = grouped_df.message.count()\n",
    "# grouped_df = grouped_df.sort_values(ascending=False)\n",
    "\n",
    "# %matplotlib inline\n",
    "\n",
    "# grouped_df[0:50].plot.bar(align='center', label=\"Emails\", color=\"blue\", figsize=(20,10))\n",
    "\n",
    "# # plt.xlim() #1997 to 2005\n",
    "# plt.xlabel(\"Emailer\")\n",
    "# plt.ylabel(\"Number of Emails Sent from\")\n",
    "# plt.title(\"Emails from Enron Corporation from 1987 to 2007\")\n",
    "# # plt.yscale('log')\n",
    "# plt.legend()\n",
    "\n",
    "# plt.tight_layout()\n",
    "# plt.show()\n",
    "\n",
    "# # # formatteddates.csv\n",
    "# grouped_df.to_csv(\"groupbyemail\")"
   ]
  },
  {
   "cell_type": "code",
   "execution_count": 6,
   "metadata": {
    "collapsed": true
   },
   "outputs": [
    {
     "ename": "KeyboardInterrupt",
     "evalue": "",
     "output_type": "error",
     "traceback": [
      "\u001b[0;31m---------------------------------------------------------------------------\u001b[0m",
      "\u001b[0;31mKeyboardInterrupt\u001b[0m                         Traceback (most recent call last)",
      "\u001b[0;32m<ipython-input-6-b3bfb85320b6>\u001b[0m in \u001b[0;36m<module>\u001b[0;34m()\u001b[0m\n\u001b[1;32m      5\u001b[0m     \u001b[0;32mreturn\u001b[0m \u001b[0mstr\u001b[0m\u001b[0;34m(\u001b[0m\u001b[0mdate\u001b[0m\u001b[0;34m.\u001b[0m\u001b[0myear\u001b[0m\u001b[0;34m)\u001b[0m \u001b[0;34m+\u001b[0m \u001b[0;34m\"-\"\u001b[0m \u001b[0;34m+\u001b[0m \u001b[0mstr\u001b[0m\u001b[0;34m(\u001b[0m\u001b[0mdate\u001b[0m\u001b[0;34m.\u001b[0m\u001b[0mmonth\u001b[0m\u001b[0;34m)\u001b[0m\u001b[0;34m\u001b[0m\u001b[0m\n\u001b[1;32m      6\u001b[0m \u001b[0;34m\u001b[0m\u001b[0m\n\u001b[0;32m----> 7\u001b[0;31m \u001b[0mgrouped_df\u001b[0m \u001b[0;34m=\u001b[0m \u001b[0mdf\u001b[0m\u001b[0;34m.\u001b[0m\u001b[0mgroupby\u001b[0m\u001b[0;34m(\u001b[0m\u001b[0mdf\u001b[0m\u001b[0;34m[\u001b[0m\u001b[0;34m'email_date'\u001b[0m\u001b[0;34m]\u001b[0m\u001b[0;34m.\u001b[0m\u001b[0mmap\u001b[0m\u001b[0;34m(\u001b[0m\u001b[0;32mlambda\u001b[0m \u001b[0mx\u001b[0m\u001b[0;34m:\u001b[0m \u001b[0mformat_date\u001b[0m\u001b[0;34m(\u001b[0m\u001b[0mx\u001b[0m\u001b[0;34m)\u001b[0m\u001b[0;34m)\u001b[0m\u001b[0;34m)\u001b[0m\u001b[0;34m\u001b[0m\u001b[0m\n\u001b[0m\u001b[1;32m      8\u001b[0m \u001b[0mgrouped_df\u001b[0m \u001b[0;34m=\u001b[0m \u001b[0mgrouped_df\u001b[0m\u001b[0;34m.\u001b[0m\u001b[0mmessage\u001b[0m\u001b[0;34m.\u001b[0m\u001b[0mcount\u001b[0m\u001b[0;34m(\u001b[0m\u001b[0;34m)\u001b[0m\u001b[0;34m\u001b[0m\u001b[0m\n",
      "\u001b[0;32m/home/rhn2105/exit/lib/python3.6/site-packages/pandas/core/series.py\u001b[0m in \u001b[0;36mmap\u001b[0;34m(self, arg, na_action)\u001b[0m\n\u001b[1;32m   2156\u001b[0m         \u001b[0;32melse\u001b[0m\u001b[0;34m:\u001b[0m\u001b[0;34m\u001b[0m\u001b[0m\n\u001b[1;32m   2157\u001b[0m             \u001b[0;31m# arg is a function\u001b[0m\u001b[0;34m\u001b[0m\u001b[0;34m\u001b[0m\u001b[0m\n\u001b[0;32m-> 2158\u001b[0;31m             \u001b[0mnew_values\u001b[0m \u001b[0;34m=\u001b[0m \u001b[0mmap_f\u001b[0m\u001b[0;34m(\u001b[0m\u001b[0mvalues\u001b[0m\u001b[0;34m,\u001b[0m \u001b[0marg\u001b[0m\u001b[0;34m)\u001b[0m\u001b[0;34m\u001b[0m\u001b[0m\n\u001b[0m\u001b[1;32m   2159\u001b[0m \u001b[0;34m\u001b[0m\u001b[0m\n\u001b[1;32m   2160\u001b[0m         return self._constructor(new_values,\n",
      "\u001b[0;32mpandas/_libs/src/inference.pyx\u001b[0m in \u001b[0;36mpandas._libs.lib.map_infer (pandas/_libs/lib.c:66440)\u001b[0;34m()\u001b[0m\n",
      "\u001b[0;32m<ipython-input-6-b3bfb85320b6>\u001b[0m in \u001b[0;36m<lambda>\u001b[0;34m(x)\u001b[0m\n\u001b[1;32m      5\u001b[0m     \u001b[0;32mreturn\u001b[0m \u001b[0mstr\u001b[0m\u001b[0;34m(\u001b[0m\u001b[0mdate\u001b[0m\u001b[0;34m.\u001b[0m\u001b[0myear\u001b[0m\u001b[0;34m)\u001b[0m \u001b[0;34m+\u001b[0m \u001b[0;34m\"-\"\u001b[0m \u001b[0;34m+\u001b[0m \u001b[0mstr\u001b[0m\u001b[0;34m(\u001b[0m\u001b[0mdate\u001b[0m\u001b[0;34m.\u001b[0m\u001b[0mmonth\u001b[0m\u001b[0;34m)\u001b[0m\u001b[0;34m\u001b[0m\u001b[0m\n\u001b[1;32m      6\u001b[0m \u001b[0;34m\u001b[0m\u001b[0m\n\u001b[0;32m----> 7\u001b[0;31m \u001b[0mgrouped_df\u001b[0m \u001b[0;34m=\u001b[0m \u001b[0mdf\u001b[0m\u001b[0;34m.\u001b[0m\u001b[0mgroupby\u001b[0m\u001b[0;34m(\u001b[0m\u001b[0mdf\u001b[0m\u001b[0;34m[\u001b[0m\u001b[0;34m'email_date'\u001b[0m\u001b[0;34m]\u001b[0m\u001b[0;34m.\u001b[0m\u001b[0mmap\u001b[0m\u001b[0;34m(\u001b[0m\u001b[0;32mlambda\u001b[0m \u001b[0mx\u001b[0m\u001b[0;34m:\u001b[0m \u001b[0mformat_date\u001b[0m\u001b[0;34m(\u001b[0m\u001b[0mx\u001b[0m\u001b[0;34m)\u001b[0m\u001b[0;34m)\u001b[0m\u001b[0;34m)\u001b[0m\u001b[0;34m\u001b[0m\u001b[0m\n\u001b[0m\u001b[1;32m      8\u001b[0m \u001b[0mgrouped_df\u001b[0m \u001b[0;34m=\u001b[0m \u001b[0mgrouped_df\u001b[0m\u001b[0;34m.\u001b[0m\u001b[0mmessage\u001b[0m\u001b[0;34m.\u001b[0m\u001b[0mcount\u001b[0m\u001b[0;34m(\u001b[0m\u001b[0;34m)\u001b[0m\u001b[0;34m\u001b[0m\u001b[0m\n",
      "\u001b[0;32m<ipython-input-6-b3bfb85320b6>\u001b[0m in \u001b[0;36mformat_date\u001b[0;34m(x)\u001b[0m\n\u001b[1;32m      2\u001b[0m \u001b[0;34m\u001b[0m\u001b[0m\n\u001b[1;32m      3\u001b[0m \u001b[0;32mdef\u001b[0m \u001b[0mformat_date\u001b[0m\u001b[0;34m(\u001b[0m\u001b[0mx\u001b[0m\u001b[0;34m)\u001b[0m\u001b[0;34m:\u001b[0m\u001b[0;34m\u001b[0m\u001b[0m\n\u001b[0;32m----> 4\u001b[0;31m     \u001b[0mdate\u001b[0m \u001b[0;34m=\u001b[0m \u001b[0mparser\u001b[0m\u001b[0;34m.\u001b[0m\u001b[0mparse\u001b[0m\u001b[0;34m(\u001b[0m\u001b[0mx\u001b[0m\u001b[0;34m)\u001b[0m\u001b[0;34m\u001b[0m\u001b[0m\n\u001b[0m\u001b[1;32m      5\u001b[0m     \u001b[0;32mreturn\u001b[0m \u001b[0mstr\u001b[0m\u001b[0;34m(\u001b[0m\u001b[0mdate\u001b[0m\u001b[0;34m.\u001b[0m\u001b[0myear\u001b[0m\u001b[0;34m)\u001b[0m \u001b[0;34m+\u001b[0m \u001b[0;34m\"-\"\u001b[0m \u001b[0;34m+\u001b[0m \u001b[0mstr\u001b[0m\u001b[0;34m(\u001b[0m\u001b[0mdate\u001b[0m\u001b[0;34m.\u001b[0m\u001b[0mmonth\u001b[0m\u001b[0;34m)\u001b[0m\u001b[0;34m\u001b[0m\u001b[0m\n\u001b[1;32m      6\u001b[0m \u001b[0;34m\u001b[0m\u001b[0m\n",
      "\u001b[0;32m/home/rhn2105/exit/lib/python3.6/site-packages/dateutil/parser.py\u001b[0m in \u001b[0;36mparse\u001b[0;34m(timestr, parserinfo, **kwargs)\u001b[0m\n\u001b[1;32m   1166\u001b[0m         \u001b[0;32mreturn\u001b[0m \u001b[0mparser\u001b[0m\u001b[0;34m(\u001b[0m\u001b[0mparserinfo\u001b[0m\u001b[0;34m)\u001b[0m\u001b[0;34m.\u001b[0m\u001b[0mparse\u001b[0m\u001b[0;34m(\u001b[0m\u001b[0mtimestr\u001b[0m\u001b[0;34m,\u001b[0m \u001b[0;34m**\u001b[0m\u001b[0mkwargs\u001b[0m\u001b[0;34m)\u001b[0m\u001b[0;34m\u001b[0m\u001b[0m\n\u001b[1;32m   1167\u001b[0m     \u001b[0;32melse\u001b[0m\u001b[0;34m:\u001b[0m\u001b[0;34m\u001b[0m\u001b[0m\n\u001b[0;32m-> 1168\u001b[0;31m         \u001b[0;32mreturn\u001b[0m \u001b[0mDEFAULTPARSER\u001b[0m\u001b[0;34m.\u001b[0m\u001b[0mparse\u001b[0m\u001b[0;34m(\u001b[0m\u001b[0mtimestr\u001b[0m\u001b[0;34m,\u001b[0m \u001b[0;34m**\u001b[0m\u001b[0mkwargs\u001b[0m\u001b[0;34m)\u001b[0m\u001b[0;34m\u001b[0m\u001b[0m\n\u001b[0m\u001b[1;32m   1169\u001b[0m \u001b[0;34m\u001b[0m\u001b[0m\n\u001b[1;32m   1170\u001b[0m \u001b[0;34m\u001b[0m\u001b[0m\n",
      "\u001b[0;32m/home/rhn2105/exit/lib/python3.6/site-packages/dateutil/parser.py\u001b[0m in \u001b[0;36mparse\u001b[0;34m(self, timestr, default, ignoretz, tzinfos, **kwargs)\u001b[0m\n\u001b[1;32m    554\u001b[0m             \u001b[0meffective_dt\u001b[0m \u001b[0;34m=\u001b[0m \u001b[0mdefault\u001b[0m\u001b[0;34m\u001b[0m\u001b[0m\n\u001b[1;32m    555\u001b[0m \u001b[0;34m\u001b[0m\u001b[0m\n\u001b[0;32m--> 556\u001b[0;31m         \u001b[0mres\u001b[0m\u001b[0;34m,\u001b[0m \u001b[0mskipped_tokens\u001b[0m \u001b[0;34m=\u001b[0m \u001b[0mself\u001b[0m\u001b[0;34m.\u001b[0m\u001b[0m_parse\u001b[0m\u001b[0;34m(\u001b[0m\u001b[0mtimestr\u001b[0m\u001b[0;34m,\u001b[0m \u001b[0;34m**\u001b[0m\u001b[0mkwargs\u001b[0m\u001b[0;34m)\u001b[0m\u001b[0;34m\u001b[0m\u001b[0m\n\u001b[0m\u001b[1;32m    557\u001b[0m \u001b[0;34m\u001b[0m\u001b[0m\n\u001b[1;32m    558\u001b[0m         \u001b[0;32mif\u001b[0m \u001b[0mres\u001b[0m \u001b[0;32mis\u001b[0m \u001b[0;32mNone\u001b[0m\u001b[0;34m:\u001b[0m\u001b[0;34m\u001b[0m\u001b[0m\n",
      "\u001b[0;32m/home/rhn2105/exit/lib/python3.6/site-packages/dateutil/parser.py\u001b[0m in \u001b[0;36m_parse\u001b[0;34m(self, timestr, dayfirst, yearfirst, fuzzy, fuzzy_with_tokens)\u001b[0m\n\u001b[1;32m    673\u001b[0m \u001b[0;34m\u001b[0m\u001b[0m\n\u001b[1;32m    674\u001b[0m         \u001b[0mres\u001b[0m \u001b[0;34m=\u001b[0m \u001b[0mself\u001b[0m\u001b[0;34m.\u001b[0m\u001b[0m_result\u001b[0m\u001b[0;34m(\u001b[0m\u001b[0;34m)\u001b[0m\u001b[0;34m\u001b[0m\u001b[0m\n\u001b[0;32m--> 675\u001b[0;31m         \u001b[0ml\u001b[0m \u001b[0;34m=\u001b[0m \u001b[0m_timelex\u001b[0m\u001b[0;34m.\u001b[0m\u001b[0msplit\u001b[0m\u001b[0;34m(\u001b[0m\u001b[0mtimestr\u001b[0m\u001b[0;34m)\u001b[0m         \u001b[0;31m# Splits the timestr into tokens\u001b[0m\u001b[0;34m\u001b[0m\u001b[0m\n\u001b[0m\u001b[1;32m    676\u001b[0m \u001b[0;34m\u001b[0m\u001b[0m\n\u001b[1;32m    677\u001b[0m         \u001b[0;31m# keep up with the last token skipped so we can recombine\u001b[0m\u001b[0;34m\u001b[0m\u001b[0;34m\u001b[0m\u001b[0m\n",
      "\u001b[0;32m/home/rhn2105/exit/lib/python3.6/site-packages/dateutil/parser.py\u001b[0m in \u001b[0;36msplit\u001b[0;34m(cls, s)\u001b[0m\n\u001b[1;32m    190\u001b[0m     \u001b[0;34m@\u001b[0m\u001b[0mclassmethod\u001b[0m\u001b[0;34m\u001b[0m\u001b[0m\n\u001b[1;32m    191\u001b[0m     \u001b[0;32mdef\u001b[0m \u001b[0msplit\u001b[0m\u001b[0;34m(\u001b[0m\u001b[0mcls\u001b[0m\u001b[0;34m,\u001b[0m \u001b[0ms\u001b[0m\u001b[0;34m)\u001b[0m\u001b[0;34m:\u001b[0m\u001b[0;34m\u001b[0m\u001b[0m\n\u001b[0;32m--> 192\u001b[0;31m         \u001b[0;32mreturn\u001b[0m \u001b[0mlist\u001b[0m\u001b[0;34m(\u001b[0m\u001b[0mcls\u001b[0m\u001b[0;34m(\u001b[0m\u001b[0ms\u001b[0m\u001b[0;34m)\u001b[0m\u001b[0;34m)\u001b[0m\u001b[0;34m\u001b[0m\u001b[0m\n\u001b[0m\u001b[1;32m    193\u001b[0m \u001b[0;34m\u001b[0m\u001b[0m\n\u001b[1;32m    194\u001b[0m     \u001b[0;34m@\u001b[0m\u001b[0mclassmethod\u001b[0m\u001b[0;34m\u001b[0m\u001b[0m\n",
      "\u001b[0;32m/home/rhn2105/exit/lib/python3.6/site-packages/dateutil/parser.py\u001b[0m in \u001b[0;36m__next__\u001b[0;34m(self)\u001b[0m\n\u001b[1;32m    179\u001b[0m \u001b[0;34m\u001b[0m\u001b[0m\n\u001b[1;32m    180\u001b[0m     \u001b[0;32mdef\u001b[0m \u001b[0m__next__\u001b[0m\u001b[0;34m(\u001b[0m\u001b[0mself\u001b[0m\u001b[0;34m)\u001b[0m\u001b[0;34m:\u001b[0m\u001b[0;34m\u001b[0m\u001b[0m\n\u001b[0;32m--> 181\u001b[0;31m         \u001b[0mtoken\u001b[0m \u001b[0;34m=\u001b[0m \u001b[0mself\u001b[0m\u001b[0;34m.\u001b[0m\u001b[0mget_token\u001b[0m\u001b[0;34m(\u001b[0m\u001b[0;34m)\u001b[0m\u001b[0;34m\u001b[0m\u001b[0m\n\u001b[0m\u001b[1;32m    182\u001b[0m         \u001b[0;32mif\u001b[0m \u001b[0mtoken\u001b[0m \u001b[0;32mis\u001b[0m \u001b[0;32mNone\u001b[0m\u001b[0;34m:\u001b[0m\u001b[0;34m\u001b[0m\u001b[0m\n\u001b[1;32m    183\u001b[0m             \u001b[0;32mraise\u001b[0m \u001b[0mStopIteration\u001b[0m\u001b[0;34m\u001b[0m\u001b[0m\n",
      "\u001b[0;32m/home/rhn2105/exit/lib/python3.6/site-packages/dateutil/parser.py\u001b[0m in \u001b[0;36mget_token\u001b[0;34m(self)\u001b[0m\n\u001b[1;32m    110\u001b[0m                 \u001b[0;32melif\u001b[0m \u001b[0mself\u001b[0m\u001b[0;34m.\u001b[0m\u001b[0misnum\u001b[0m\u001b[0;34m(\u001b[0m\u001b[0mnextchar\u001b[0m\u001b[0;34m)\u001b[0m\u001b[0;34m:\u001b[0m\u001b[0;34m\u001b[0m\u001b[0m\n\u001b[1;32m    111\u001b[0m                     \u001b[0mstate\u001b[0m \u001b[0;34m=\u001b[0m \u001b[0;34m'0'\u001b[0m\u001b[0;34m\u001b[0m\u001b[0m\n\u001b[0;32m--> 112\u001b[0;31m                 \u001b[0;32melif\u001b[0m \u001b[0mself\u001b[0m\u001b[0;34m.\u001b[0m\u001b[0misspace\u001b[0m\u001b[0;34m(\u001b[0m\u001b[0mnextchar\u001b[0m\u001b[0;34m)\u001b[0m\u001b[0;34m:\u001b[0m\u001b[0;34m\u001b[0m\u001b[0m\n\u001b[0m\u001b[1;32m    113\u001b[0m                     \u001b[0mtoken\u001b[0m \u001b[0;34m=\u001b[0m \u001b[0;34m' '\u001b[0m\u001b[0;34m\u001b[0m\u001b[0m\n\u001b[1;32m    114\u001b[0m                     \u001b[0;32mbreak\u001b[0m  \u001b[0;31m# emit token\u001b[0m\u001b[0;34m\u001b[0m\u001b[0m\n",
      "\u001b[0;32m/home/rhn2105/exit/lib/python3.6/site-packages/dateutil/parser.py\u001b[0m in \u001b[0;36misspace\u001b[0;34m(cls, nextchar)\u001b[0m\n\u001b[1;32m    202\u001b[0m         \u001b[0;32mreturn\u001b[0m \u001b[0mnextchar\u001b[0m\u001b[0;34m.\u001b[0m\u001b[0misdigit\u001b[0m\u001b[0;34m(\u001b[0m\u001b[0;34m)\u001b[0m\u001b[0;34m\u001b[0m\u001b[0m\n\u001b[1;32m    203\u001b[0m \u001b[0;34m\u001b[0m\u001b[0m\n\u001b[0;32m--> 204\u001b[0;31m     \u001b[0;34m@\u001b[0m\u001b[0mclassmethod\u001b[0m\u001b[0;34m\u001b[0m\u001b[0m\n\u001b[0m\u001b[1;32m    205\u001b[0m     \u001b[0;32mdef\u001b[0m \u001b[0misspace\u001b[0m\u001b[0;34m(\u001b[0m\u001b[0mcls\u001b[0m\u001b[0;34m,\u001b[0m \u001b[0mnextchar\u001b[0m\u001b[0;34m)\u001b[0m\u001b[0;34m:\u001b[0m\u001b[0;34m\u001b[0m\u001b[0m\n\u001b[1;32m    206\u001b[0m         \u001b[0;34m\"\"\" Whether the next character is whitespace \"\"\"\u001b[0m\u001b[0;34m\u001b[0m\u001b[0m\n",
      "\u001b[0;31mKeyboardInterrupt\u001b[0m: "
     ]
    }
   ],
   "source": [
    "# Parsing the data\n",
    "\n",
    "from dateutil import parser\n",
    "\n",
    "def format_date(x):\n",
    "    date = parser.parse(x)\n",
    "    return str(date.year) + \"-\" + str(date.month) \n",
    "\n",
    "grouped_df = df.groupby(df['email_date'].map(lambda x: format_date(x)))\n",
    "grouped_df = grouped_df.message.count()"
   ]
  },
  {
   "cell_type": "code",
   "execution_count": 103,
   "metadata": {
    "collapsed": true
   },
   "outputs": [],
   "source": [
    "# Saving all Harry Potter emails to a CSV\n",
    "\n",
    "# pd.set_option('display.width', 10000)\n",
    "# pd.set_option('display.max_colwidth', 10000)\n",
    "\n",
    "pd.options.display.max_rows = 999\n",
    "harry.to_csv(\"harry.csv\")"
   ]
  },
  {
   "cell_type": "code",
   "execution_count": 26,
   "metadata": {},
   "outputs": [
    {
     "data": {
      "text/plain": [
       "139946"
      ]
     },
     "execution_count": 26,
     "metadata": {},
     "output_type": "execute_result"
    }
   ],
   "source": [
    "# Let us see how many values\n",
    "\n",
    "len(df)"
   ]
  },
  {
   "cell_type": "code",
   "execution_count": 73,
   "metadata": {
    "collapsed": true
   },
   "outputs": [
    {
     "name": "stdout",
     "output_type": "stream",
     "text": [
      "35698                                                                                                                                                                                                                                                                                                                                                                                                                                                                                                                                                                                                                                                                                                                                                                                                                                                                                                                                                                                                                                                                                                                                                                                                                                                                                                                                                                                                                                                                                                                                                                                                                                                                                                                                                                                                                                                                                                                                                                                                                                                                                                                                                                                                                                                                                                                                                                                                                                                                                                                                                                                                                                                                                                                                                                                                                                                                                                                                                                                                                                                                                                                                                                                                                                                                                                                                                                                                                                                                                                                                                                                                                                                                                                                                                                                                                                                                                                                                                                                                                                                                                                                                                                                                                                                                                                                                                                                                                                                                                                                                                                                                                                                                                                                                                                                                                                                                                                                                                                                                                                                                                                                                                                                                                                                                                                                                                                                                                                                                                                                                                                                                                                                                                                                                                                                                                                                                                                                                                                                                                                                                                                                                                                                                                                                                                                                                                                                                                                                                                                                                                                                                                                                                                                                                                                                                                                        \\t\\tRichard, I'll bring you both checks tonight when I get home. Thanks for the reminder.  Lynn\\n\\n -----Original Message-----\\nFrom: \\tRichard Dale <daleco43@yahoo.com>@ENRON  \\nSent:\\tFriday, October 12, 2001 8:00 AM\\nTo:\\tBlair, Lynn\\nSubject:\\tJewels the Clown\\n\\nLynn, I was not sure when you were leaving town and I\\ngot the invoice for Jewels.  Can you get me a check\\ntonight or this weekend?  Jewels was $260.\\nWe'll also need the $500 for the filing fee.\\nI can also endorse the check from New Power.\\n\\nCan we get this done some time this weekend?\\n\\nThanks,\\nRichard\\n\\n__________________________________________________\\nDo You Yahoo!?\\nMake a great connection at Yahoo! Personals.\\nhttp://personals.yahoo.com\n",
      "47903                                                                                                                                                                                                                                                                                                                                                                                                                                                                                                                                                                                                                                                                                                                                                                                                                                                                                                                                                                                                                                                                                                                                                                                                                                                                                                                                                                                                                                                                                                                                                                                                                                                                                                                                                                                                                                                                                                                                                                                                                                                                                                                                                                                                                                                                                                                                                                                                                                                                                                                                                                                                                                                                                                                                                                                                                                                                                                                                                                                                                                                                                                                                                                                                                                                                                                                                                                                                                                                                                                                                                                                                                                                                                                                                                                                                                                                                                                                                                                                                                                                                                                                                                                                                                                                                                                                                                                                                                                                                                                                                                                                                                                                                                                                                                                                                                                                                                                                                                                                                                                                                                                                                                                                                                                                                                                                                                                                                                                                                                                                                                                                                                                                                                                                                                                                                                                                                                                                                                                                                                                                                                                                                                                                                                                                                                                                                                                                                                                                                                                                                                                                                                                                                                                                                                                                                                                                                                                                                                                                                                                                                                                                                                                                                                                                                                                                                                                                                                                                                                                                                                           Shanna Funkhouser is confirmed.\n",
      "48415                                                                                                                                                                                                                                                                                                                                                                                                                                                                                                                                                                                                                                                                                                                                                                                                                                                                                                                                                                                                                                                                                                                                                                                                                                                                                                                                                                                                                                                                                                                                                                                                                                                                                                                                                                                                                                                                                                                                                                                                                                                                                                                                                                                                                                                                                                                                                                                                                                                                                                                                                                                                                                                                                                                                                                                                                                                                                                                                                                                                                                                                                                                                                                                                                                                                                                                                                                                                                                                                                                                                                                                                                                                                                                                                                                                                                                                                                                                                                                                                                                                                                                                                                                                                                                                                                                                                                                                                                                                                                                                                                                                                                                                                                                                                                                                                                                                                                                                                                                                                                                                                                                                                                                                                                                                                                                                                                                                                                                                                                                                                                                                                                                                                                                                                                                                                                                                                                                                                                                                                                                                                                                                                                                                                                                                                                                                                                                                                                                                                                                                                                                                                                                                                                                                                                                                                                                                                                                                           sounds fabulous!!!  See you Friday -- is a place/time confirmed yet?  \\n\\n\\n\\n\\nMichelle Blaine@ENRON_DEVELOPMENT\\n12/06/2000 05:38 PM\\nTo: Michelle Cash/HOU/ECT@ECT@ENRON\\ncc: Deannenoel@aol.com @ ENRON, sgussett@bracepatt.com (Sheryl \\nGussett)@ENRON, rank@mdjlaw.com@ENRON, mthamm@wt.net (Mary Thamm)@ENRON, \\nLisa.Anouilh@solvay.com (Anouilh@ENRON, michelle.cash@enron.com@ENRON \\nSubject: Re: Catherine Roberts Jewelry  \\n\\nGang.\\nThe big jewels show will be on Sunday the 17--how about 3pm-7pm--come \\nwhenever you want.  My new place will still be uninhabitable then, so it will \\nbe at the Houstonian Hotel.  Details on Friday.\\n\\n\n",
      "50677                                                                                                                                                                                                                                                                                                                                                                                                                                                                                                                                                                                                                                                                                                                                                                                                                                                                                                                                                                                                                                                                                                                                                                                                                                                                                                                                                                                                                                                                                                                                                                                                                                                                                                                                                                                                                                                                                                                                                                                                                                                                                                                                                                                                                                                                                                                                                                                                                                                                                                                                                                                                                                                                                                                                                                                                                                                                                                                                                                                                                                                                                                                                                                                                                                                                                                                                                                                                                                                                                                                                                                                                                                                                                                                                                                                                                                                                                                                                                                                                                                                                                                                                                                                                                                                                                                                                                                                                                                                                                                                                                                                                                                                                                                                                                                                                                                                                                                                                                                                                                                                                                                                                                                                                                                                                                                                                                                                                                                                                                                                                                                                                                                                                                                                                                                                                                                                                                                                                                                                                                                                                                                                                                                                                                                                                                                                                                                                                                                                                                                                                                                                                                                                                                                                                                                                                                                                                                                                           sounds fabulous!!!  See you Friday -- is a place/time confirmed yet?  \\n\\n\\n\\n\\nMichelle Blaine@ENRON_DEVELOPMENT\\n12/06/2000 05:38 PM\\nTo: Michelle Cash/HOU/ECT@ECT@ENRON\\ncc: Deannenoel@aol.com @ ENRON, sgussett@bracepatt.com (Sheryl \\nGussett)@ENRON, rank@mdjlaw.com@ENRON, mthamm@wt.net (Mary Thamm)@ENRON, \\nLisa.Anouilh@solvay.com (Anouilh@ENRON, michelle.cash@enron.com@ENRON \\nSubject: Re: Catherine Roberts Jewelry  \\n\\nGang.\\nThe big jewels show will be on Sunday the 17--how about 3pm-7pm--come \\nwhenever you want.  My new place will still be uninhabitable then, so it will \\nbe at the Houstonian Hotel.  Details on Friday.\\n\\n\n",
      "92131                                                                                                                                                                                                                                                                                                                                                                                                                                                                                                                                                                                                                                                                                                                                                                                                                                                                                                                                                                                                                                                                                                                                                                                                                                                                                                                                                                                                                                                                                                                                                                                                                                                                                                                                                                                                                                                                                                                                                                                                                                                                                                                                                                                                                                                                                                                                                                                                                                                                                                                                                                                                                                                                                                                                                                                                                                                                                                                                                                                                                                                                                                                                                                                                                                                                                                                                                                                                                                                                                                                                                                                                                                                                                                                                                                                                                                                                                                                                                                                                                                                                                                                                                                                                                                                                                                                                                                                                                                                                                                                                                                                                                                                                                                                                                                                                                                                                                                                                                                                                                                                                                                                                                                                                                                                                                                                                                                                                                                                                                                                                                                                                                                                                                                                                                                                                                                                                                                                                                                                                                                                                                                                                                                                                                                                                                                                                                                                                                                                                                                                                                                                                                                                                                                                                                                                                                                                                                                                                                                                                                                                                                                                                                                                                                                                                                                                                                                                                                                                                                                                                           Katherine T. Mize\\nOf Counsel\\nkmize@cjmlaw.com\n",
      "163721                                                                                                                                                                                                                                                                                                                                                                                                                                                                                                                                                                                                                                                                                                                                                                                                                                                                                                                                                                                                                                                                                                                                                                                                                                                                                                                                                                                                                                                                                                                                                                                                                                                                                                                                                                                                                                                                                                                                                                                                                                                                                                                                                                                                                                                                                                                                                                                                                                                                                                                                                                                                                                                                                                                                                                                                                                                                                                                                                                                                                                                                                                                                                                                                                                                                                                                                                                                                                                                                                                                                                                                                                                                                                                                                                                                                                                                                                                                                                                                                                                                                                                                                                                                                                                                                                                                                                                                                                                                                                                                                                                                                                                                                                                                                                                                                                                                                                                                                                                                                                                                                                                                                                                                                                                                                                                                                                                                                                                                                                                                                                                                                                                                                                                                                                                                                                                                                                                                                                                                                                                                                                                                                                                                                                                                                                                                                                                                                                                                                                                                                                                                                                                                                                                                                                                                                                                                                                                                                                                                                                                                                                                                                                                                                                                                                                                                                              Next Tuesday is Rosh Hashana.  I would like to take off next Monday and Tuesday if that is okay.  The following Thursday is Yom Kippur so I will also need to take off Sept. 27.  Please let me know if this is okay.\\n\\nThanks,\\n\\nMichael\n",
      "228316                                                                                                                                                                                                                                                                                                                                                                                                                                                                                                                                                                                                                                                                                                                                                                                                                                                                                                                                                                                                                                                                                                                                                                                                                                                                                                                                                                                                                                                                                                                                                                                                                                                                                                                                                                                                                                                                                                                                                                                                                                                                                                                                                                                                                                                                                                                                                                                                                                                                                                                                                                                                                                                                                                                                                                                                                                                                                                                                                                                                                                                                                                                                                                                                                                                                                                                                                                                                                                                                                                                                                                                                                                                                                                                                                                                                                                                                                                                                                                                                                                                                                                                                                                                                                                                                                                                                                                                                                                                                                                                                                                                                                                                                                                                                                                                                                                                                                                                                                                                                                                                                                                                                                                                                                                                                                                                                                                                                                                                                                                                                                                                                                                                                                                                                                                                                                                                                                                                                                                                                                                                                                                                                                                                                                                                                                                                                                                                                                                                                                                                                                                                                                                                                                                                                                                                                                                                                                                                                                                   I am out of town.\\nJoe - can you attend?\\n\\n\\n\\n\\tLaura Evans@EES\\n\\t10/31/2000 02:27 PM\\n\\t\\t \\n\\t\\t To: Marty Sunde@EES, Thomas E White/HOU/EES@EES, Kim Frumkin/HOU/EES@EES, \\nSteven J Kean/NA/Enron@Enron, Gene Humphrey/HOU/ECT@ECT, Bert \\nFrazier/HOU/ECT@ECT\\n\\t\\t cc: Judy G Smith/HOU/EES@EES, Carol Moffett@EES, Bert Frazier/HOU/ECT@ECT, \\nTroy Henry/HOU/EES@EES\\n\\t\\t Subject: Jew Don Boni\\n\\nThis is a reminder of the meeting with Jew Don Boni on Thursday, November 2 \\nfrom 12:00 to 2:00 in EB 872..Lunch will be provided....Please confirm that \\nyou will be attending......Thanks, Laurie\\n\n",
      "234481                                                                                                                                                                                                                                                                                                                                                                                                                                                                                                                                                                                                                                                                                                                                                                                                                                                                                                                                                                                                                                                                                                                                                                                                                                                                                                                                                                                                                                                                                                                                                                                                                                                                                                                                                                                                                                                                                                                                                                                                                                                                                                                                                                                                                                                                                                                                                                                                                                                                                                                                                                                                                                                                                                                                                                                                                                                                                                                                                                                                                                                                                                                                                                                                                                                                                                                                                                                                                                                                                                                                                                                                                                                                                                                                                                                                                                                                                                                                                                                                                                                                                                                                                                                                                                                                                                                                                                                                                                                                                                                                                                                                                                                                                                                                                                                                                                                                                                                                                                                                                                                                                                                                                                                                                                                                                                                                                                                                                                                                                                                                                                                                                                                                                                                                                                                                                                                                                                                                                                                                                                                                                                                                                                                                                                                                                                                                                                                                                                                                                                                                                                                                                                                                                                                                                                                                                                                                                                                                                                   I am out of town.\\nJoe - can you attend?\\n\\n\\n\\n\\tLaura Evans@EES\\n\\t10/31/2000 02:27 PM\\n\\t\\t \\n\\t\\t To: Marty Sunde@EES, Thomas E White/HOU/EES@EES, Kim Frumkin/HOU/EES@EES, \\nSteven J Kean/NA/Enron@Enron, Gene Humphrey/HOU/ECT@ECT, Bert \\nFrazier/HOU/ECT@ECT\\n\\t\\t cc: Judy G Smith/HOU/EES@EES, Carol Moffett@EES, Bert Frazier/HOU/ECT@ECT, \\nTroy Henry/HOU/EES@EES\\n\\t\\t Subject: Jew Don Boni\\n\\nThis is a reminder of the meeting with Jew Don Boni on Thursday, November 2 \\nfrom 12:00 to 2:00 in EB 872..Lunch will be provided....Please confirm that \\nyou will be attending......Thanks, Laurie\\n\n",
      "239716                                                                                                                                                                                                                                                                                                                                                                                                                                                                                                                                                                                                                                                                                                                                                                                                                                                                                                                                                                                                                                                                                                                                                                                                                                                                                                                                                                                                                                                                                                                                                                                                                                                                                                                                                                                                                                                                                                                                                                                                                                                                                                                                                                                                                                                                                                                                                                                                                                                                                                                                                                                                                                                                                                                                                                                                                                                                                                                                                                                                                                                                                                                                                                                                                                                                                                                                                                                                                                                                                                                                                                                                                                                                                                                                                                                                                                                                                                                                                                                                                                                                                                                                                                                                                                                                                                                                                                                                                                                                                                                                                                                                                                                                                                                                                                                                                                                                                                                                                                                                                                                                                                                                                                                                                                                                                                                                                                                                                                                                                                                                                                                                                                                                                                                                                                                                                                                                                                                                                                                                                                                                                                                                                                                                                                                                                                                                                                                                                                                                                                                                                                                                                                                                                                                                                                                                                                                                                                                                                                   I am out of town.\\nJoe - can you attend?\\n\\n\\n\\n\\tLaura Evans@EES\\n\\t10/31/2000 02:27 PM\\n\\t\\t \\n\\t\\t To: Marty Sunde@EES, Thomas E White/HOU/EES@EES, Kim Frumkin/HOU/EES@EES, \\nSteven J Kean/NA/Enron@Enron, Gene Humphrey/HOU/ECT@ECT, Bert \\nFrazier/HOU/ECT@ECT\\n\\t\\t cc: Judy G Smith/HOU/EES@EES, Carol Moffett@EES, Bert Frazier/HOU/ECT@ECT, \\nTroy Henry/HOU/EES@EES\\n\\t\\t Subject: Jew Don Boni\\n\\nThis is a reminder of the meeting with Jew Don Boni on Thursday, November 2 \\nfrom 12:00 to 2:00 in EB 872..Lunch will be provided....Please confirm that \\nyou will be attending......Thanks, Laurie\\n\n",
      "252283                                                                                                                                                                                                                                                                                                                                                                                                                                                                                                                                                                                                                                                                                                                                                                                                                                                                                                                                                                                                                                                                                                                                                                                                                                                                                                                                                                                                                                                                                                                                                                                                                                                                                                                                                                                                                                                                                                                                                                                                                                                                                                                                                                                                                                                                                                                                                                                                                                                                                                                                                                                                                                                                                                                                                                                                                                                                                                                                                                                                                                                                                                                                                                                                                                                                                                                                                                                                                                                                                                                                                                                                                                                                                                                                                                                                                                                                                                                                                                                                                                                                                                                                                                                                                                                                                                                                                                                                                                                                                                                                                                                                                                                                                                                                                                                                                                                                                                                                                                                                                                                                                                                                                                                                                                                                                                                                                                                                                                                                                                                                                                                                                                                                                                                                                                                                                                                                                                                                                                                                                                                                                                                                                                                                                                                                                                                                                                                                                                                                                                                                                                                                                                                                                                                                                                                                                                                                                                                                                                   I am out of town.\\nJoe - can you attend?\\n\\n\\n\\n\\tLaura Evans@EES\\n\\t10/31/2000 02:27 PM\\n\\t\\t \\n\\t\\t To: Marty Sunde@EES, Thomas E White/HOU/EES@EES, Kim Frumkin/HOU/EES@EES, \\nSteven J Kean/NA/Enron@Enron, Gene Humphrey/HOU/ECT@ECT, Bert \\nFrazier/HOU/ECT@ECT\\n\\t\\t cc: Judy G Smith/HOU/EES@EES, Carol Moffett@EES, Bert Frazier/HOU/ECT@ECT, \\nTroy Henry/HOU/EES@EES\\n\\t\\t Subject: Jew Don Boni\\n\\nThis is a reminder of the meeting with Jew Don Boni on Thursday, November 2 \\nfrom 12:00 to 2:00 in EB 872..Lunch will be provided....Please confirm that \\nyou will be attending......Thanks, Laurie\\n\n",
      "361046                                                                                                                                                                                                                                                                                                                                                                                                                                                                                                                                                                                                                                                                                                                                                                                                                                                                                                                                                                                                                                                                                                                                                                                                                                                                                                                                                                                                                                                                                                                                                                                                                                                                                                                                                                                                                                                                                                                                                                                                                                                                                                                                                                                                                                                                                                                                                                                                                                                                                                                                                                                                                                                                                                                                                                                                                                                                                                                                                                                                                                                                                                                                                                                                                                                                                                                                                                                                                                                                                                                                                                                                                                                                                                                                                                                                                                                                                                                                                                                                                                                                                                                                                                                                                                                                                                                                                                                                                                                                                                                                                                                                                                                                                                                                                                                                                                                                                                                                                                                                                                                                                                                                                                                                                                                                                                                                                                                                                                                                                                                                                                                                                                                                                                                                                                                                                                                                                                                                                                                                                                                                                                                                                                                                                                                                                                                                                                                                                                                                                                                                                                                                                                                                                                                                                                                                                                                                                                                                                                                                                                                                                                                                                                                                                                                                               No but very nice stuff!!!\\n\\n-----Original Message-----\\nFrom: Fitzgerald, Genia \\nSent: Tuesday, August 14, 2001 12:56 PM\\nTo: Perlingiere, Debra\\nSubject: Don Lucas Fine Southwestern Jewelry featuring silver, turquoise\\nand other semi \\n\\n\\n  \\n Man, he isn't cheap!!!!\\n http://www.donlucas.com/\n",
      "399890    \\n\\n-----Original Message-----\\nFrom: Julie Longoria [mailto:julie.longoria@biggsinsurance.com]\\nSent: Thursday, August 30, 2001 2:33 PM\\nTo: Scholtes, Diana\\nSubject: Jewelry quote\\n\\n\\nDiana,\\nMy first try came back - hope this correction finds you.  If not I'll call\\nyou back.\\n--Julie\\n\\n-----Original Message-----\\nFrom: Mail Delivery System [mailto:Mailer-Daemon@biggsinsurance.com]\\nSent: Thursday, August 30, 2001 2:56 PM\\nTo: julie.longoria@biggsinsurance.com\\nSubject: Mail delivery failed: returning message to sender\\n\\nThis message was created automatically by mail delivery software.\\n(A copy of this message has been sent to this system's mail administrator.)\\n\\nA message that you sent could not be delivered to all of its recipients. The\\nfollowing address(es) failed:\\n\\n  dianascholtes@enron.com:\\n    SMTP error from remote mailer after RCPT TO:\\n    <dianascholtes@enron.com>:\\n    host mailman.enron.com [192.152.140.66]:\\n    550 5.1.1 <dianascholtes@enron.com>... User unknown\\n\\n------ This is a copy of the message, including all the headers. ------\\n\\nReturn-path: <julie.longoria@biggsinsurance.com>\\nReceived: from [192.168.1.25] (helo=julie)\\n        by biggsinsurance.com with smtp (Exim 2.12 #1)\\n        id 15cZmq-0004ix-00; Thu, 30 Aug 2001 14:55:44 -0700\\nReply-To: <julie.longoria@biggsinsurance.com>\\nFrom: \"Julie Longoria\" <julie.longoria@biggsinsurance.com>\\nTo: <dianascholtes@enron.com>\\nSubject: Quote for scheduled jewelry\\nDate: Thu, 30 Aug 2001 14:26:31 -0700\\nMessage-ID: <NDBBLCOJILCFIHBFCIONCEEGCGAA.julie.longoria@biggsinsurance.com>\\nMIME-Version: 1.0\\nContent-Type: multipart/alternative;\\n        boundary=\"----=_NextPart_000_0026_01C1315F.C39A2D80\"\\nX-Priority: 3 (Normal)\\nX-MSMail-Priority: Normal\\nX-Mailer: Microsoft Outlook IMO, Build 9.0.2416 (9.0.2910.0)\\nImportance: Normal\\nX-MimeOLE: Produced By Microsoft MimeOLE V5.00.3018.1300\\n\\nThis is a multi-part message in MIME format.\\n\\n------=_NextPart_000_0026_01C1315F.C39A2D80\\nContent-Type: text/plain;\\n        charset=\"iso-8859-1\"\\nContent-Transfer-Encoding: 8bit\\n\\nHi Diana,\\nI checked out Safeco's rate for scheduling jewelry and it's $1.15 per $100\\nvalue.  Sorry I mis-spoke earlier - one of the other companies we write for\\njust had an increase and I was confused.  The annual premium for a $12,000\\nring would be $138.\\nPlease let me know if you want me to add the wedding ring.  You could e-mail\\nme the appraisal or fax it direct to my e-fax at\\n(413) 683-6970 and I'll follow up.   I went ahead and updated all your\\nSafeco policies so you'll receive mail directly at your new home.  Please\\nlet me know if I can be of any further assistance.\\n--Julie\\n\\n------=_NextPart_000_0026_01C1315F.C39A2D80\\nContent-Type: text/html;\\n        charset=\"iso-8859-1\"\\nContent-Transfer-Encoding: quoted-printable\\n\\n<html xmlns:o=3D\"urn:schemas-microsoft-com:office:office\" =\\nxmlns:w=3D\"urn:schemas-microsoft-com:office:word\" =\\nxmlns=3D\"http://www.w3.org/TR/REC-html40\">\\n\\n<head>\\n<meta http-equiv=3DContent-Type content=3D\"text/html; =\\ncharset=3Diso-8859-1\">\\n<meta name=3DProgId content=3DWord.Document>\\n<meta name=3DGenerator content=3D\"Microsoft Word 9\">\\n<meta name=3DOriginator content=3D\"Microsoft Word 9\">\\n<link rel=3DFile-List href=3D\"cid:filelist.xml@01C1315F.C38964A0\">\\n<!--[if gte mso 9]><xml>\\n <o:OfficeDocumentSettings>\\n  <o:DoNotRelyOnCSS/>\\n </o:OfficeDocumentSettings>\\n</xml><![endif]--><!--[if gte mso 9]><xml>\\n <w:WordDocument>\\n  <w:View>Normal</w:View>\\n  <w:Zoom>0</w:Zoom>\\n  <w:DocumentKind>DocumentEmail</w:DocumentKind>\\n  <w:EnvelopeVis/>\\n  =\\n<w:DisplayHorizontalDrawingGridEvery>0</w:DisplayHorizontalDrawingGridEve=\\nry>\\n  =\\n<w:DisplayVerticalDrawingGridEvery>0</w:DisplayVerticalDrawingGridEvery>\\n  <w:UseMarginsForDrawingGridOrigin/>\\n  <w:Compatibility>\\n   <w:WW6BorderRules/>\\n   <w:FootnoteLayoutLikeWW8/>\\n   <w:ShapeLayoutLikeWW8/>\\n   <w:AlignTablesRowByRow/>\\n   <w:ForgetLastTabAlignment/>\\n   <w:DoNotUseHTMLParagraphAutoSpacing/>\\n   <w:LayoutRawTableWidth/>\\n   <w:LayoutTableRowsApart/>\\n  </w:Compatibility>\\n </w:WordDocument>\\n</xml><![endif]-->\\n<style>\\n<!--\\n /* Style Definitions */\\np.MsoNormal, li.MsoNormal, div.MsoNormal\\n        {mso-style-parent:\"\";\\n        margin:0in;\\n        margin-bottom:.0001pt;\\n        mso-pagination:widow-orphan;\\n        font-size:12.0pt;\\n        mso-bidi-font-size:10.0pt;\\n        font-family:\"Times New Roman\";\\n        mso-fareast-font-family:\"Times New Roman\";}\\np.MsoAutoSig, li.MsoAutoSig, div.MsoAutoSig\\n        {margin:0in;\\n        margin-bottom:.0001pt;\\n        mso-pagination:widow-orphan;\\n        font-size:12.0pt;\\n        mso-bidi-font-size:10.0pt;\\n        font-family:\"Times New Roman\";\\n        mso-fareast-font-family:\"Times New Roman\";}\\nspan.EmailStyle15\\n        {mso-style-type:personal-compose;\\n        mso-ansi-font-size:10.0pt;\\n        mso-ascii-font-family:Arial;\\n        mso-hansi-font-family:Arial;\\n        mso-bidi-font-family:Arial;\\n        color:black;}\\n@page Section1\\n        {size:8.5in 11.0in;\\n        margin:1.0in 1.25in 1.0in 1.25in;\\n        mso-header-margin:.5in;\\n        mso-footer-margin:.5in;\\n        mso-paper-source:0;}\\ndiv.Section1\\n        {page:Section1;}\\n-->\\n</style>\\n</head>\\n\\n<body lang=3DEN-US style=3D'tab-interval:.5in'>\\n\\n<div class=3DSection1>\\n\\n<p class=3DMsoNormal><span class=3DEmailStyle15><font size=3D2 =\\ncolor=3Dblack\\nface=3DArial><span style=3D'font-size:10.0pt;font-family:Arial'>Hi =\\nDiana,<o:p></o:p></span></font></span></p>\\n\\n<p class=3DMsoNormal><span class=3DEmailStyle15><font size=3D2 =\\ncolor=3Dblack\\nface=3DArial><span style=3D'font-size:10.0pt;font-family:Arial'>I =\\nchecked out\\nSafeco&#8217;s rate for scheduling jewelry and it&#8217;s $1.15 per $100 =\\nvalue.<span\\nstyle=3D\"mso-spacerun: yes\">&nbsp; </span>Sorry I mis-spoke earlier =\\n&#8211; one of the\\nother companies we write for just had an increase and I was =\\nconfused.<span\\nstyle=3D\"mso-spacerun: yes\">&nbsp; </span>The annual premium for a =\\n$12,000 ring\\nwould be $138.<o:p></o:p></span></font></span></p>\\n\\n<p class=3DMsoNormal><span class=3DEmailStyle15><font size=3D2 =\\ncolor=3Dblack\\nface=3DArial><span style=3D'font-size:10.0pt;font-family:Arial'>Please =\\nlet me know\\nif you want me to add the wedding ring.<span style=3D\"mso-spacerun: =\\nyes\">&nbsp;\\n</span>You could e-mail me the appraisal or fax it direct to my e-fax at =\\n<o:p></o:p></span></font></span></p>\\n\\n<p class=3DMsoNormal><span class=3DEmailStyle15><font size=3D2 =\\ncolor=3Dblack\\nface=3DArial><span style=3D'font-size:10.0pt;font-family:Arial'>(413) =\\n683-6970 and\\nI&#8217;ll follow up.<span style=3D\"mso-spacerun: yes\">&nbsp; =\\n</span><span\\nstyle=3D\"mso-spacerun: yes\">&nbsp;</span>I went ahead and updated all =\\nyour Safeco\\npolicies so you&#8217;ll receive mail directly at your new home.<span\\nstyle=3D\"mso-spacerun: yes\">&nbsp; </span>Please let me know if I can be =\\nof any\\nfurther assistance.<o:p></o:p></span></font></span></p>\\n\\n<p class=3DMsoNormal><span class=3DEmailStyle15><font size=3D2 =\\ncolor=3Dblack\\nface=3DArial><span =\\nstyle=3D'font-size:10.0pt;font-family:Arial'>--Julie<o:p></o:p></span></f=\\nont></span></p>\\n\\n</div>\\n\\n</body>\\n\\n</html>\\n\\n------=_NextPart_000_0026_01C1315F.C39A2D80--\n",
      "431460                                                                                                                                                                                                                                                                                                                                                                                                                                                                                                                                                                                                                                                                                                                                                                                                                                                                                                                                                                                                                                                                                                                                                                                                                                                                                                                                                                                                                                                                                                                                                                                                                                                                                                                                                                                                                                                                                                                                                                                                                                                                                                                                                                                                                                                                                                                                                                                                                                                                                                                                                                                                                                                                                                                                                                                                                                                                                                                                                                                                                                                                                                                                                                                                                                                                                                                                                                                      here's a good one.\\n---------------------- Forwarded by Jeffrey A Shankman/HOU/ECT on 10/17/2000 \\n12:57 PM ---------------------------\\n\\n\\nDaniel Reck\\n10/16/2000 06:06 PM\\nTo: Jeffrey A Shankman/HOU/ECT@ECT, Kevin Liss/Corp/Enron@ENRON, \\nediamo@coair.com\\ncc:  \\nSubject: the Jewish Parrot\\n\\nI usually delete jokes, but this one is pretty funny:\\n\\n\\n\\n\\nThe Jewish Parrot\\n>\\n> Sherman, a lonely widower, was walking home along Delancy Street one\\n> day wishing something wonderful would happen into his life, when he\\n> passed a Pet Store and heard a squawking voice shouting out in\\n> Yiddish:\\n>\\n> \"Quawwwwk ... vus macht du ... Yeah, du ... outside, standing like a\\n> putzel ... eh?\"\\n>\\n> Sherman rubbed his eyes and ears. Couldn't believe it. The proprietor\\n> sprang out of the door and grabbed Meyer by the sleeve. \"Come in\\n> here, fella, and check out this parrot!\"\\n>\\n> Sherman stood in front of an African Grey that cocked his little head\\n> and said: \"Vus? Kenst reddin Yiddish?\"\\n>\\n> Sherman said to the parrot, \"You speak Yiddish?\"\\n>\\n> The parrot replied, \"Vuh den? Chinese maybe?\"\\n>\\n> In a matter of moments, Sherman had placed five hundred dollars down\\n> on the counter and carried the parrot in his cage away with him.  All\\n> night he talked with the parrot.  In Yiddish.  He told the parrot\\n> about his father's adventures coming to America.  About how beautiful\\n> his mother was when she was a young bride.  About his family About\\n> his years of working in the garment center.   About Florida.\\n>\\n> The parrot listened and commented. They shared some walnuts. The\\n> parrot told him of living in the pet store, how he hated the\\n> weekends.  They both went to sleep.\\n>\\n> Next morning, Sherman began to put on his tfillin all the while,\\n> saying his prayers.  The parrot demanded to know what he was doing\\n> and when Sherman explained, the parrot wanted some too.  Sherman went\\n> out and hand-made a miniature set of tfillin for the parrot.\\n>\\n> The parrot wanted to learn to daven, and learned every prayer. He\\n> wanted to learn to read Hebrew so Sherman spent weeks and months,\\n> sitting and teaching the parrot, teaching him Torah.\\n>\\n> One morning, on Rosh Hashana, Sherman rose and got dressed and was\\n> about to leave when the parrot demanded to go with him.  Sherman\\n> explained that Shul was no place for a bird but the parrot made a\\n> terrific argument and was carried to Shul on Sherman's shoulder.\\n>\\n> Needless to say, they made quite a spectacle, and Sherman was\\n> questioned by everyone, including the Rabbi and Cantor.  They refused\\n> to allow a bird into the building on the High Holy Days but Sherman\\n> convinced them to let him in this one time, swearing that parrot\\n> could daven.\\n>\\n> Wagers were made with Sherman. Thousands of dollars were bet (even\\n> odds) that the parrot could NOT daven, could not speak Yiddish or\\n> Hebrew, etc.\\n>\\n> All eyes were on the African Grey during services. The parrot perched\\n> on Sherman's shoulder as one prayer and song passed - Sherman heard\\n> not a peep from the bird.  He began to become annoyed, slapping at\\n> his shoulder and mumbling under his breath, \"Daven!\"\\n>\\n> Nothing.\\n>\\n> \"Daven ... parrot, you can daven, so daven ... come on, everybody's\\n> looking at you!\"\\n>\\n> Nothing.\\n>\\n> After Rosh Hashanah services were concluded,  Sherman found that he\\n> owed his Shul buddies and the Rabbi over four thousand dollars.  He\\n> marched home, upset as hell, saying nothing.  Finally several blocks\\n> from the Temple the bird began to sing an old Yiddish song and was\\n> happy as a lark.  Sherman stopped and looked at him.\\n>\\n> \"You miserable bird, you cost me over four thousand dollars. Why?\\n> After I made your tfillin and taught you the morning prayers, and\\n> taught you to read Hebrew and the Torah.  And after you begged me to\\n> bring you to Shul on Rosh Hashana, why?  Why did you do this to me?\"\\n>\\n> \"Don't be a schmuck,\" the parrot replied. \"Think of the odds on Yom\\nKippur!\"\\n>\\n\\n\\n\\n\\n\n",
      "432897                                                                                                                                                                                                                                                                                                                                                                                                                                                                                                                                                                                                                                                                                                                                                                                                                                                                                                                                                                                                                                                                                                                                                                                                                                                                                                                                                                                                                                                                                                                                                                                                                                                                                                                                                                                                                                                                                                                                                                                                                                                                                                                                                                                                                                                                                                                                                                                                                                                                                                                                                                                                                                                                                                                                                                                                                                                                                                                                                                                                                                                                                                                                                                                                                                                                                                                                                                                      here's a good one.\\n---------------------- Forwarded by Jeffrey A Shankman/HOU/ECT on 10/17/2000 \\n12:57 PM ---------------------------\\n\\n\\nDaniel Reck\\n10/16/2000 06:06 PM\\nTo: Jeffrey A Shankman/HOU/ECT@ECT, Kevin Liss/Corp/Enron@ENRON, \\nediamo@coair.com\\ncc:  \\nSubject: the Jewish Parrot\\n\\nI usually delete jokes, but this one is pretty funny:\\n\\n\\n\\n\\nThe Jewish Parrot\\n>\\n> Sherman, a lonely widower, was walking home along Delancy Street one\\n> day wishing something wonderful would happen into his life, when he\\n> passed a Pet Store and heard a squawking voice shouting out in\\n> Yiddish:\\n>\\n> \"Quawwwwk ... vus macht du ... Yeah, du ... outside, standing like a\\n> putzel ... eh?\"\\n>\\n> Sherman rubbed his eyes and ears. Couldn't believe it. The proprietor\\n> sprang out of the door and grabbed Meyer by the sleeve. \"Come in\\n> here, fella, and check out this parrot!\"\\n>\\n> Sherman stood in front of an African Grey that cocked his little head\\n> and said: \"Vus? Kenst reddin Yiddish?\"\\n>\\n> Sherman said to the parrot, \"You speak Yiddish?\"\\n>\\n> The parrot replied, \"Vuh den? Chinese maybe?\"\\n>\\n> In a matter of moments, Sherman had placed five hundred dollars down\\n> on the counter and carried the parrot in his cage away with him.  All\\n> night he talked with the parrot.  In Yiddish.  He told the parrot\\n> about his father's adventures coming to America.  About how beautiful\\n> his mother was when she was a young bride.  About his family About\\n> his years of working in the garment center.   About Florida.\\n>\\n> The parrot listened and commented. They shared some walnuts. The\\n> parrot told him of living in the pet store, how he hated the\\n> weekends.  They both went to sleep.\\n>\\n> Next morning, Sherman began to put on his tfillin all the while,\\n> saying his prayers.  The parrot demanded to know what he was doing\\n> and when Sherman explained, the parrot wanted some too.  Sherman went\\n> out and hand-made a miniature set of tfillin for the parrot.\\n>\\n> The parrot wanted to learn to daven, and learned every prayer. He\\n> wanted to learn to read Hebrew so Sherman spent weeks and months,\\n> sitting and teaching the parrot, teaching him Torah.\\n>\\n> One morning, on Rosh Hashana, Sherman rose and got dressed and was\\n> about to leave when the parrot demanded to go with him.  Sherman\\n> explained that Shul was no place for a bird but the parrot made a\\n> terrific argument and was carried to Shul on Sherman's shoulder.\\n>\\n> Needless to say, they made quite a spectacle, and Sherman was\\n> questioned by everyone, including the Rabbi and Cantor.  They refused\\n> to allow a bird into the building on the High Holy Days but Sherman\\n> convinced them to let him in this one time, swearing that parrot\\n> could daven.\\n>\\n> Wagers were made with Sherman. Thousands of dollars were bet (even\\n> odds) that the parrot could NOT daven, could not speak Yiddish or\\n> Hebrew, etc.\\n>\\n> All eyes were on the African Grey during services. The parrot perched\\n> on Sherman's shoulder as one prayer and song passed - Sherman heard\\n> not a peep from the bird.  He began to become annoyed, slapping at\\n> his shoulder and mumbling under his breath, \"Daven!\"\\n>\\n> Nothing.\\n>\\n> \"Daven ... parrot, you can daven, so daven ... come on, everybody's\\n> looking at you!\"\\n>\\n> Nothing.\\n>\\n> After Rosh Hashanah services were concluded,  Sherman found that he\\n> owed his Shul buddies and the Rabbi over four thousand dollars.  He\\n> marched home, upset as hell, saying nothing.  Finally several blocks\\n> from the Temple the bird began to sing an old Yiddish song and was\\n> happy as a lark.  Sherman stopped and looked at him.\\n>\\n> \"You miserable bird, you cost me over four thousand dollars. Why?\\n> After I made your tfillin and taught you the morning prayers, and\\n> taught you to read Hebrew and the Torah.  And after you begged me to\\n> bring you to Shul on Rosh Hashana, why?  Why did you do this to me?\"\\n>\\n> \"Don't be a schmuck,\" the parrot replied. \"Think of the odds on Yom\\nKippur!\"\\n>\\n\\n\\n\\n\\n\n",
      "434116                                                                                                                                                                                                                                                                                                                                                                                                                                                                                                                                                                                                                                                                                                                                                                                                                                                                                                                                                                                                                                                                                                                                                                                                                                                                                                                                                                                                                                                                                                                                                                                                                                                                                                                                                                                                                                                                                                                                                                                                                                                                                                                                                                                                                                                                                                                                                                                                                                                                                                                                                                                                                                                                                                                                                                                                                                                                                                                                                                                                                                                                                                                                                                                                                                                                                                                                                                                      here's a good one.\\n---------------------- Forwarded by Jeffrey A Shankman/HOU/ECT on 10/17/2000 \\n12:57 PM ---------------------------\\n\\n\\nDaniel Reck\\n10/16/2000 06:06 PM\\nTo: Jeffrey A Shankman/HOU/ECT@ECT, Kevin Liss/Corp/Enron@ENRON, \\nediamo@coair.com\\ncc:  \\nSubject: the Jewish Parrot\\n\\nI usually delete jokes, but this one is pretty funny:\\n\\n\\n\\n\\nThe Jewish Parrot\\n>\\n> Sherman, a lonely widower, was walking home along Delancy Street one\\n> day wishing something wonderful would happen into his life, when he\\n> passed a Pet Store and heard a squawking voice shouting out in\\n> Yiddish:\\n>\\n> \"Quawwwwk ... vus macht du ... Yeah, du ... outside, standing like a\\n> putzel ... eh?\"\\n>\\n> Sherman rubbed his eyes and ears. Couldn't believe it. The proprietor\\n> sprang out of the door and grabbed Meyer by the sleeve. \"Come in\\n> here, fella, and check out this parrot!\"\\n>\\n> Sherman stood in front of an African Grey that cocked his little head\\n> and said: \"Vus? Kenst reddin Yiddish?\"\\n>\\n> Sherman said to the parrot, \"You speak Yiddish?\"\\n>\\n> The parrot replied, \"Vuh den? Chinese maybe?\"\\n>\\n> In a matter of moments, Sherman had placed five hundred dollars down\\n> on the counter and carried the parrot in his cage away with him.  All\\n> night he talked with the parrot.  In Yiddish.  He told the parrot\\n> about his father's adventures coming to America.  About how beautiful\\n> his mother was when she was a young bride.  About his family About\\n> his years of working in the garment center.   About Florida.\\n>\\n> The parrot listened and commented. They shared some walnuts. The\\n> parrot told him of living in the pet store, how he hated the\\n> weekends.  They both went to sleep.\\n>\\n> Next morning, Sherman began to put on his tfillin all the while,\\n> saying his prayers.  The parrot demanded to know what he was doing\\n> and when Sherman explained, the parrot wanted some too.  Sherman went\\n> out and hand-made a miniature set of tfillin for the parrot.\\n>\\n> The parrot wanted to learn to daven, and learned every prayer. He\\n> wanted to learn to read Hebrew so Sherman spent weeks and months,\\n> sitting and teaching the parrot, teaching him Torah.\\n>\\n> One morning, on Rosh Hashana, Sherman rose and got dressed and was\\n> about to leave when the parrot demanded to go with him.  Sherman\\n> explained that Shul was no place for a bird but the parrot made a\\n> terrific argument and was carried to Shul on Sherman's shoulder.\\n>\\n> Needless to say, they made quite a spectacle, and Sherman was\\n> questioned by everyone, including the Rabbi and Cantor.  They refused\\n> to allow a bird into the building on the High Holy Days but Sherman\\n> convinced them to let him in this one time, swearing that parrot\\n> could daven.\\n>\\n> Wagers were made with Sherman. Thousands of dollars were bet (even\\n> odds) that the parrot could NOT daven, could not speak Yiddish or\\n> Hebrew, etc.\\n>\\n> All eyes were on the African Grey during services. The parrot perched\\n> on Sherman's shoulder as one prayer and song passed - Sherman heard\\n> not a peep from the bird.  He began to become annoyed, slapping at\\n> his shoulder and mumbling under his breath, \"Daven!\"\\n>\\n> Nothing.\\n>\\n> \"Daven ... parrot, you can daven, so daven ... come on, everybody's\\n> looking at you!\"\\n>\\n> Nothing.\\n>\\n> After Rosh Hashanah services were concluded,  Sherman found that he\\n> owed his Shul buddies and the Rabbi over four thousand dollars.  He\\n> marched home, upset as hell, saying nothing.  Finally several blocks\\n> from the Temple the bird began to sing an old Yiddish song and was\\n> happy as a lark.  Sherman stopped and looked at him.\\n>\\n> \"You miserable bird, you cost me over four thousand dollars. Why?\\n> After I made your tfillin and taught you the morning prayers, and\\n> taught you to read Hebrew and the Torah.  And after you begged me to\\n> bring you to Shul on Rosh Hashana, why?  Why did you do this to me?\"\\n>\\n> \"Don't be a schmuck,\" the parrot replied. \"Think of the odds on Yom\\nKippur!\"\\n>\\n\\n\\n\\n\\n\n",
      "Name: email_body, dtype: object\n"
     ]
    },
    {
     "name": "stderr",
     "output_type": "stream",
     "text": [
      "/home/rhn2105/exit/lib/python3.6/site-packages/ipykernel_launcher.py:12: UserWarning: Boolean Series key will be reindexed to match DataFrame index.\n",
      "  if sys.path[0] == '':\n"
     ]
    }
   ],
   "source": [
    "# Printing all mentions of fruits and vegetables\n",
    "# This allows us to determine potential spam/discussion of non-businesses related things.\n",
    "\n",
    "bananas = emails_from_enron_df[df['email_subject'].str.contains(\"banana|Banana|BANANA\")==True]\n",
    "oranges = emails_from_enron_df[df['email_subject'].str.contains(\"orange|Orange|ORANGE\")==True]\n",
    "apples = emails_from_enron_df[df['email_subject'].str.contains(\"apple|Apple|APPLE\")==True]\n",
    "potatoes = emails_from_enron_df[df['email_subject'].str.contains(\"potato|Potato|POTATO\")==True]\n",
    "water = emails_from_enron_df[df['email_subject'].str.contains(\"potato|Potato|POTATO\")==True]\n",
    "\n",
    "print(bananas.email_to.count())\n",
    "print(oranges.email_to.count())\n",
    "print(apples.email_to.count())\n",
    "print(potatoes.email_to.count())\n",
    "\n",
    "\n",
    "# Printing all mentions of Jew\n",
    "# This allows us to determine potential spam/discussion of non-businesses related things.\n",
    "\n",
    "jews = emails_from_enron_df[df['email_subject'].str.contains(\"JEW.|Jew.|jew.\")==True]\n",
    "jewss = emails_from_enron_df[df['email_body'].str.contains(\"JEW |Jew |jew \")==True]\n",
    "\n",
    "pd.set_option('display.width', 10000)\n",
    "pd.set_option('display.max_colwidth', 10000)\n",
    "pd.options.display.max_rows = 999\n",
    "\n",
    "print(jews.count())\n",
    "print(jews.email_body)\n",
    "print(jewss.count())"
   ]
  },
  {
   "cell_type": "code",
   "execution_count": null,
   "metadata": {
    "collapsed": true
   },
   "outputs": [],
   "source": []
  }
 ],
 "metadata": {
  "kernelspec": {
   "display_name": "Python 3",
   "language": "python",
   "name": "python3"
  },
  "language_info": {
   "codemirror_mode": {
    "name": "ipython",
    "version": 3
   },
   "file_extension": ".py",
   "mimetype": "text/x-python",
   "name": "python",
   "nbconvert_exporter": "python",
   "pygments_lexer": "ipython3",
   "version": "3.6.1"
  }
 },
 "nbformat": 4,
 "nbformat_minor": 2
}
